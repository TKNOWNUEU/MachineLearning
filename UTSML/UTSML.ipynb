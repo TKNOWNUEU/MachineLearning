{
 "cells": [
  {
   "cell_type": "markdown",
   "metadata": {},
   "source": [
    "## NAMA  : Teddy Adi Kusuma \n",
    "## NIM   : 20210801149\n",
    "## Prodi : Teknik Informatika"
   ]
  },
  {
   "cell_type": "markdown",
   "metadata": {},
   "source": [
    "# Essay:\n",
    "1) Jelaskan apa yang dimaksud dengan Machine Learning\n",
    "2) Berikan contoh penerapan implemetasi dalam kehidupan sehari-hari terkait Machine Learning. Dan jelaskan mengapa membutuhkannya dan manfaatnya\n",
    "3) Jelaskan macam-macam taxonomi dalam pengerapan Machine Learning\n",
    "\n",
    "# jawaban\n",
    "1) Machine Learning adalah cabang dari kecerdasan buatan yang mempelajari sistem yang dapat belajar dari data, mengidentifikasi pola dan membuat keputusan dengan minimal intervensi manusia. Machine Learning adalah teknik dimana mesin belajar dari data yang ada dan kemudian melakukan prediksi atau pengambilan keputusan berdasarkan data tersebut.\n",
    "\n",
    "2) Contoh penerapan Machine Learning dalam kehidupan sehari-hari adalah:\n",
    "- Rekomendasi film di Netflix\n",
    "- Rekomendasi produk di e-commerce\n",
    "- Deteksi wajah di kamera CCTV\n",
    "- Mobil otonom\n",
    "- Asisten virtual seperti Google Assistant, Siri, dan Alexa\n",
    "\n",
    "Machine Learning dibutuhkan karena:\n",
    "- Mampu mengolah data yang besar dan kompleks\n",
    "- Mampu mengidentifikasi pola yang tidak dapat dilihat oleh manusia\n",
    "- Mampu membuat prediksi yang akurat\n",
    "- Mampu mengambil keputusan secara cepat dan efisien\n",
    "\n",
    "Manfaat Machine Learning:\n",
    "- Meningkatkan efisiensi dan produktivitas\n",
    "- Meningkatkan kualitas prediksi dan pengambilan keputusan\n",
    "- Meningkatkan keamanan dan keandalan\n",
    "- Meningkatkan pengalaman pengguna\n",
    "\n",
    "3) Macam-macam taxonomi dalam pengerapan Machine Learning:\n",
    "- Supervised Learning\n",
    "    - Linear \n",
    "        - Linear Regression\n",
    "        - Logistic Regression\n",
    "        - Preception\n",
    "    - Non-Linear\n",
    "        - K-Nearest Neighbors (KNN)\n",
    "        - Support Vector Machine (SVM)\n",
    "        - Decision Tree\n",
    "        - Random Forest\n",
    "        - Boosting\n",
    "        - Bagging\n",
    "        - naive bayes\n",
    "        - Multi-layer Perceptron (MLP)\n",
    "        - Rule Learning\n",
    "- Unsupervised Learning\n",
    "    - K-Means\n",
    "    - Expectation-Maximization (EM)\n",
    "    - Self-Organizing Maps (SOM)\n",
    "- Reinforcement Learning\n",
    "    - Real time decision\n",
    "    - Robot Navigation\n",
    "    - Learning task\n",
    "    - Game AI\n",
    "    - Skill Acquisition\n",
    "\n"
   ]
  },
  {
   "cell_type": "markdown",
   "metadata": {},
   "source": [
    "# soal no 1\n",
    "Sempurnakan Data Set Universitas Esa Unggul memiliki detail mahasiswa sebagai berikut :\n",
    "Ani, Budi, Joni, Jono dan Lono Setiap mahasiswa dating ke kampus mulai dari hari senin sampai minggu Untuk melakukan kegiatan kuliah \n",
    "\n",
    "Ani menghabiskan biaya 30000 dikampus setiap datang\n",
    "\n",
    "Budi menghabiskan biaya 35000 dikampus setiap datang \n",
    "\n",
    "Joni menghabiskan biaya 20000 dikampus setiap datang \n",
    "\n",
    "Jono 25000 dan Lono 15000\n",
    "\n",
    "- a) Berapa rata-rata mahasiswa datang pada minggu ini?\n",
    "- b) Kapan biaya tertinggi terjadi?\n",
    "- c) Hari apa biaya lebih dari 110000?\n",
    "- d) Siapa yang paling banyak datang ke kampus?\n",
    "- e) Siapa yang datang pada hari minggu?\n",
    "- f) Berapa biaya tertinggi dan terendah?\n",
    "- g) Berapa frekuensi datang tertinggi dan terendah?"
   ]
  },
  {
   "cell_type": "markdown",
   "metadata": {},
   "source": [
    "# Import dataset\n"
   ]
  },
  {
   "cell_type": "code",
   "execution_count": 76,
   "metadata": {},
   "outputs": [
    {
     "data": {
      "text/html": [
       "<div>\n",
       "<style scoped>\n",
       "    .dataframe tbody tr th:only-of-type {\n",
       "        vertical-align: middle;\n",
       "    }\n",
       "\n",
       "    .dataframe tbody tr th {\n",
       "        vertical-align: top;\n",
       "    }\n",
       "\n",
       "    .dataframe thead th {\n",
       "        text-align: right;\n",
       "    }\n",
       "</style>\n",
       "<table border=\"1\" class=\"dataframe\">\n",
       "  <thead>\n",
       "    <tr style=\"text-align: right;\">\n",
       "      <th></th>\n",
       "      <th>HARI</th>\n",
       "      <th>DATANG</th>\n",
       "      <th>BIAYA</th>\n",
       "      <th>MAHASISWA</th>\n",
       "    </tr>\n",
       "  </thead>\n",
       "  <tbody>\n",
       "    <tr>\n",
       "      <th>0</th>\n",
       "      <td>Senin</td>\n",
       "      <td>2</td>\n",
       "      <td>30000</td>\n",
       "      <td>Ani</td>\n",
       "    </tr>\n",
       "    <tr>\n",
       "      <th>1</th>\n",
       "      <td>Selasa</td>\n",
       "      <td>3</td>\n",
       "      <td>35000</td>\n",
       "      <td>Budi</td>\n",
       "    </tr>\n",
       "    <tr>\n",
       "      <th>2</th>\n",
       "      <td>Rabu</td>\n",
       "      <td>4</td>\n",
       "      <td>25000</td>\n",
       "      <td>Jono</td>\n",
       "    </tr>\n",
       "    <tr>\n",
       "      <th>3</th>\n",
       "      <td>Kamis</td>\n",
       "      <td>1</td>\n",
       "      <td>15000</td>\n",
       "      <td>Lono</td>\n",
       "    </tr>\n",
       "    <tr>\n",
       "      <th>4</th>\n",
       "      <td>Jumat</td>\n",
       "      <td>2</td>\n",
       "      <td>20000</td>\n",
       "      <td>Joni</td>\n",
       "    </tr>\n",
       "  </tbody>\n",
       "</table>\n",
       "</div>"
      ],
      "text/plain": [
       "     HARI  DATANG  BIAYA MAHASISWA\n",
       "0   Senin       2  30000       Ani\n",
       "1  Selasa       3  35000      Budi\n",
       "2    Rabu       4  25000      Jono\n",
       "3   Kamis       1  15000      Lono\n",
       "4   Jumat       2  20000      Joni"
      ]
     },
     "execution_count": 76,
     "metadata": {},
     "output_type": "execute_result"
    }
   ],
   "source": [
    "import matplotlib.pyplot as plt # for visualization\n",
    "import seaborn as sns # for visualization\n",
    "import sklearn # for model evaluation and development\n",
    "import numpy as np\n",
    "import pandas as pd\n",
    "dataset = pd.read_csv('Dataset.csv')\n",
    "dataset.head()\n"
   ]
  },
  {
   "cell_type": "markdown",
   "metadata": {},
   "source": [
    "### Berapa Rata-rata Mahasiswa Datang Pada Minggu Ini? "
   ]
  },
  {
   "cell_type": "code",
   "execution_count": 77,
   "metadata": {},
   "outputs": [
    {
     "name": "stdout",
     "output_type": "stream",
     "text": [
      "rata-rata mahasiswa yang datang pada minggu ini = 2.7142857142857144\n"
     ]
    }
   ],
   "source": [
    "import pandas as pd\n",
    "dataset = pd.read_csv('dataset.csv')\n",
    "# Berapa rata-rata mahasiswa datang pada minggu ini?\n",
    "rata2_mahasiswa = dataset['DATANG'].mean()\n",
    "\n",
    "print (\"rata-rata mahasiswa yang datang pada minggu ini =\",rata2_mahasiswa)"
   ]
  },
  {
   "cell_type": "markdown",
   "metadata": {},
   "source": [
    "### Kapan Biaya Tertinggi terjadi?\n",
    "### Berapa Biaya Tertinggi dan Terendah?"
   ]
  },
  {
   "cell_type": "code",
   "execution_count": 78,
   "metadata": {},
   "outputs": [
    {
     "name": "stdout",
     "output_type": "stream",
     "text": [
      "[('Senin', 60000), ('Selasa', 105000), ('Rabu', 100000), ('Kamis', 15000), ('Jumat', 40000), ('Sabtu', 150000), ('Minggu', 70000)]\n",
      "Biaya terkecil di hari Kamis = Rp15000\n",
      "Biaya terbesar di hari Sabtu = Rp150000\n"
     ]
    }
   ],
   "source": [
    "\n",
    "import numpy as np\n",
    "\n",
    "# Ambil kolom 'DATANG' dan 'BIAYA' dari dataset\n",
    "datang = dataset['DATANG']\n",
    "biaya = dataset['BIAYA']\n",
    "\n",
    "# Hitung total biaya untuk setiap hari\n",
    "total_biaya = np.multiply(datang, biaya)\n",
    "\n",
    "# Tampilkan list total_biaya dari Senin hingga Minggu\n",
    "list_total_biaya = total_biaya.tolist()\n",
    "list_hari = Hari.tolist()\n",
    "list_hari_biaya = list(zip(list_hari, list_total_biaya))\n",
    "print(list_hari_biaya)\n",
    "\n",
    "# Total Biaya Datang + Biaya \n",
    "total_biaya = Datang * Biaya\n",
    "\n",
    "biaya_terkecil = total_biaya.min()\n",
    "biaya_terbesar = total_biaya.max()\n",
    "\n",
    "index_hari_terkecil = np.argmin(total_biaya)\n",
    "index_hari_terbesar = np.argmax(total_biaya)\n",
    "hari_terkecil = Hari[index_hari_terkecil]\n",
    "hari_terbesar = Hari[index_hari_terbesar]\n",
    "\n",
    "print(f\"Biaya terkecil di hari {hari_terkecil} = Rp{biaya_terkecil}\")\n",
    "print(f\"Biaya terbesar di hari {hari_terbesar} = Rp{biaya_terbesar}\")"
   ]
  },
  {
   "cell_type": "markdown",
   "metadata": {},
   "source": [
    "### Siapa yang paling banyak datang ke kampus?"
   ]
  },
  {
   "cell_type": "code",
   "execution_count": 79,
   "metadata": {},
   "outputs": [
    {
     "name": "stdout",
     "output_type": "stream",
     "text": [
      "Ani adalah mahasiswa yang paling banyak datang ke kampus dengan total 7 kali kehadiran.\n"
     ]
    }
   ],
   "source": [
    "most_attended_student = dataset['MAHASISWA'].value_counts().idxmax()\n",
    "total_hadir = np.sum(Datang[Mahasiswa == 'Ani'])\n",
    "\n",
    "print(f\"{most_attended_student} adalah mahasiswa yang paling banyak datang ke kampus dengan total {total_hadir} kali kehadiran.\")\n"
   ]
  },
  {
   "cell_type": "markdown",
   "metadata": {},
   "source": [
    "### Siapa yang datang pada hari minggu?"
   ]
  },
  {
   "cell_type": "code",
   "execution_count": 80,
   "metadata": {},
   "outputs": [
    {
     "name": "stdout",
     "output_type": "stream",
     "text": [
      "['Budi']\n"
     ]
    }
   ],
   "source": [
    "import pandas as pd\n",
    "dataset = pd.read_csv('dataset.csv')\n",
    "\n",
    "datang_minggu = dataset[dataset['HARI'] == 'Minggu']['MAHASISWA'].unique()\n",
    "print(datang_minggu)"
   ]
  },
  {
   "cell_type": "markdown",
   "metadata": {},
   "source": [
    "### Hari apa biaya lebih dari 110000?"
   ]
  },
  {
   "cell_type": "code",
   "execution_count": 81,
   "metadata": {},
   "outputs": [
    {
     "name": "stdout",
     "output_type": "stream",
     "text": [
      "Hari dengan biaya lebih dari 110000 : ['Sabtu']\n"
     ]
    }
   ],
   "source": [
    "import numpy as np\n",
    "\n",
    "# Multiply Datang with Biaya\n",
    "total_biaya = np.multiply(Datang, Biaya)\n",
    "\n",
    "# Find the days where the total cost exceeds 110000\n",
    "Hari_Lebih = Hari[total_biaya > 110000]\n",
    "\n",
    "print(\"Hari dengan biaya lebih dari 110000 :\", Hari_Lebih)"
   ]
  },
  {
   "cell_type": "markdown",
   "metadata": {},
   "source": [
    "### Berapa frekuensi datang tertinggi dan terendah?"
   ]
  },
  {
   "cell_type": "code",
   "execution_count": 83,
   "metadata": {},
   "outputs": [
    {
     "name": "stdout",
     "output_type": "stream",
     "text": [
      "Datang tertinggi: 5\n",
      "Datang terendah: 1\n"
     ]
    }
   ],
   "source": [
    "datang_tertinggi = np.max(Datang)\n",
    "datang_terendah = np.min(Datang)\n",
    "\n",
    "print(\"Datang tertinggi:\", datang_tertinggi)\n",
    "print(\"Datang terendah:\", datang_terendah)"
   ]
  },
  {
   "cell_type": "markdown",
   "metadata": {},
   "source": [
    "# Lengkapi Source Code dibawah ini\n"
   ]
  },
  {
   "cell_type": "code",
   "execution_count": 94,
   "metadata": {},
   "outputs": [
    {
     "data": {
      "image/png": "[encoded data removed]",
      "text/plain": [
       "<Figure size 640x480 with 1 Axes>"
      ]
     },
     "metadata": {},
     "output_type": "display_data"
    }
   ],
   "source": [
    "import matplotlib.pyplot as plt\n",
    "import pandas as pd\n",
    "\n",
    "fakultas = [\"Bisnis\", \"D3 Perhotelan\", \"ICT\", \"Ilmu Komunikasi\", \"Seni dan Desain\"]\n",
    "jumlah_mahasiswa = [260, 28, 284, 465, 735]\n",
    "akreditasi = [\"A\", \"A\", \"B\", \"A\", \"A\"]\n",
    "\n",
    "info_mahasiswa = pd.DataFrame({\"fakultas\": fakultas, \"jumlah_mahasiswa\": jumlah_mahasiswa, \"akreditasi\": akreditasi})\n",
    "\n",
    "# Define colors for the bars\n",
    "colors = [\"red\", \"orange\", \"green\", \"blue\", \"purple\"]\n",
    "\n",
    "# Create a bar chart with colors\n",
    "plt.bar(info_mahasiswa[\"fakultas\"], info_mahasiswa[\"jumlah_mahasiswa\"], color=colors)\n",
    "plt.xlabel(\"Fakultas\")\n",
    "plt.ylabel(\"Jumlah Mahasiswa\")\n",
    "plt.title(\"Jumlah Mahasiswa per Fakultas\")\n",
    "plt.show()"
   ]
  }
 ],
 "metadata": {
  "kernelspec": {
   "display_name": "Python 3",
   "language": "python",
   "name": "python3"
  },
  "language_info": {
   "codemirror_mode": {
    "name": "ipython",
    "version": 3
   },
   "file_extension": ".py",
   "mimetype": "text/x-python",
   "name": "python",
   "nbconvert_exporter": "python",
   "pygments_lexer": "ipython3",
   "version": "3.10.11"
  }
 },
 "nbformat": 4,
 "nbformat_minor": 2
}
