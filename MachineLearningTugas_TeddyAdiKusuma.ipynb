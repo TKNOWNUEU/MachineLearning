{
  "cells": [
    {
      "cell_type": "markdown",
      "metadata": {
        "id": "jZiKNeXLOJAi"
      },
      "source": [
        "# TUGAS PERTEMUAN 2\n",
        "# MACHINE LEARNING"
      ]
    },
    {
      "cell_type": "markdown",
      "metadata": {
        "id": "K1YEHEjSOJAn"
      },
      "source": [
        "# SOAL 1\n",
        "Buatlah identitas diri menggunakan pemograman python sederhana\n"
      ]
    },
    {
      "cell_type": "code",
      "execution_count": 1,
      "metadata": {
        "colab": {
          "base_uri": "https://localhost:8080/"
        },
        "id": "v-YJ7oUHOJAo",
        "outputId": "60e083b2-7a3f-47fa-a271-f37349c26343"
      },
      "outputs": [
        {
          "output_type": "stream",
          "name": "stdout",
          "text": [
            "DATA DIRI\n",
            "Nama :  Teddy Adi Kusuma\n",
            "NIM:  20210801149\n",
            "Perkuliahan:  Machine Learning\n"
          ]
        }
      ],
      "source": [
        "#jawaban soal 1\n",
        "nama = \"Teddy Adi Kusuma\"\n",
        "NIM = \"20210801149\"\n",
        "mata_kuliah = \"Machine Learning\"\n",
        "\n",
        "print(\"DATA DIRI\")\n",
        "print(\"Nama : \", nama)\n",
        "print(\"NIM: \", NIM)\n",
        "print(\"Perkuliahan: \", mata_kuliah)"
      ]
    },
    {
      "cell_type": "markdown",
      "metadata": {
        "id": "AHuumhzHOJAq"
      },
      "source": [
        "# SOAL 2\n",
        "Buatlah matriksC dengan orde 2x3, dan nilai yang diberikan pada matriksC adalah sebagai berikut:\n",
        "- Baris 1 Kolom 1, nilai = 1\n",
        "- Baris 1 Kolom 2, nilai = 2\n",
        "- Baris 1 Kolom 3, nilai = 3\n",
        "- Baris 2 Kolom 1, nilai = 4\n",
        "- Baris 2 Kolom 2, nilai = 5\n",
        "- Baris 2 Kolom 3, nilai = 6"
      ]
    },
    {
      "cell_type": "code",
      "execution_count": 2,
      "metadata": {
        "colab": {
          "base_uri": "https://localhost:8080/"
        },
        "id": "FjrS-xwiOJAr",
        "outputId": "f59b0d63-9df7-4604-c493-0a7fd83e2232"
      },
      "outputs": [
        {
          "output_type": "stream",
          "name": "stdout",
          "text": [
            "[[1, 2, 3], [4, 5, 6]]\n"
          ]
        }
      ],
      "source": [
        "#jawaban soal2\n",
        "matriksC= [[1,2,3],[4,5,6]]\n",
        "print(matriksC)"
      ]
    },
    {
      "cell_type": "markdown",
      "metadata": {
        "id": "JMySUDh7OJAr"
      },
      "source": [
        "# SOAL 3\n",
        "Buatlah matriks dengan orde 3x2, dengan nilai adalah:\n",
        "- Baris 1 Kolom 1, nilai = 2\n",
        "- Baris 1 Kolom 2, nilai = 2\n",
        "- Baris 2 Kolom 1, nilai = 2\n",
        "- Baris 2 Kolom 2, nilai = 2\n",
        "- Baris 3 Kolom 1, nilai = 2\n",
        "- Baris 3 Kolom 2, nilai = 2"
      ]
    },
    {
      "cell_type": "code",
      "execution_count": 3,
      "metadata": {
        "colab": {
          "base_uri": "https://localhost:8080/"
        },
        "id": "smbftXEuOJAs",
        "outputId": "ec24d0ea-48ea-4908-ca86-7dcad27adc65"
      },
      "outputs": [
        {
          "output_type": "stream",
          "name": "stdout",
          "text": [
            "[[2, 2], [2, 2], [2, 2]]\n"
          ]
        }
      ],
      "source": [
        "#jawaban soal 3\n",
        "matriks = [[2,2],[2,2],[2,2]]\n",
        "print(matriks)"
      ]
    },
    {
      "cell_type": "markdown",
      "metadata": {
        "id": "pzMHi_cWOJAt"
      },
      "source": [
        "# SOAL 4\n",
        "Importlah library Numpy"
      ]
    },
    {
      "cell_type": "code",
      "execution_count": 4,
      "metadata": {
        "id": "Avq-DMQMOJAt"
      },
      "outputs": [],
      "source": [
        "import numpy as np"
      ]
    },
    {
      "cell_type": "markdown",
      "metadata": {
        "id": "s-5lOYVAOJAt"
      },
      "source": [
        "# SOAL 5\n",
        "Dengan memanfaatkan library numpy\n",
        "Buatlah matriks dengan menggunakan Library Numpy dengan panjang elemen adalah 32 dan matriks memiliki orde 4x8"
      ]
    },
    {
      "cell_type": "code",
      "execution_count": 5,
      "metadata": {
        "colab": {
          "base_uri": "https://localhost:8080/"
        },
        "id": "vcAFg1yyOJAu",
        "outputId": "5857cfb0-d2d9-409a-a63c-2fad10ac788d"
      },
      "outputs": [
        {
          "output_type": "stream",
          "name": "stdout",
          "text": [
            "[[ 0  1  2  3  4  5  6  7]\n",
            " [ 8  9 10 11 12 13 14 15]\n",
            " [16 17 18 19 20 21 22 23]\n",
            " [24 25 26 27 28 29 30 31]]\n"
          ]
        }
      ],
      "source": [
        "#jawaban 5\n",
        "from numpy import *\n",
        "matriks = range(32)\n",
        "matriks = reshape(matriks, (4,8))\n",
        "print(matriks)"
      ]
    },
    {
      "cell_type": "markdown",
      "metadata": {
        "id": "AJlcdJHrOJAu"
      },
      "source": [
        "# SOAL 6\n",
        "Buatlah matriks dengan menggunakan Library Numpy dengan orde 3x30, dan nilai elemen dimulai dari indeks 1 sampai dengan 5 secara random."
      ]
    },
    {
      "cell_type": "code",
      "execution_count": 6,
      "metadata": {
        "colab": {
          "base_uri": "https://localhost:8080/"
        },
        "id": "QYhV20AnOJAu",
        "outputId": "33a0399b-c834-4954-b250-3fe6c6378442"
      },
      "outputs": [
        {
          "output_type": "stream",
          "name": "stdout",
          "text": [
            "[[1 2 3 3 3 4 2 1 2 2 3 1 1 2 2 2 1 4 4 3 1 1 1 3 4 2 3 2 3 3]\n",
            " [1 3 1 2 1 4 3 2 1 1 4 1 3 1 3 2 2 1 2 3 4 2 4 3 2 1 4 4 4 2]\n",
            " [1 3 2 3 4 3 2 3 4 4 2 1 1 4 4 1 2 1 1 2 1 1 3 4 1 4 3 4 4 4]]\n"
          ]
        }
      ],
      "source": [
        "#jawaban 6\n",
        "import numpy as np\n",
        "from numpy import *\n",
        "\n",
        "matriks = np.random.randint(1,5,(3,30))\n",
        "print(matriks)\n"
      ]
    }
  ],
  "metadata": {
    "interpreter": {
      "hash": "916dbcbb3f70747c44a77c7bcd40155683ae19c65e1c03b4aa3499c5328201f1"
    },
    "kernelspec": {
      "display_name": "Python 3.8.10 64-bit",
      "language": "python",
      "name": "python3"
    },
    "language_info": {
      "codemirror_mode": {
        "name": "ipython",
        "version": 3
      },
      "file_extension": ".py",
      "mimetype": "text/x-python",
      "name": "python",
      "nbconvert_exporter": "python",
      "pygments_lexer": "ipython3",
      "version": "3.8.10"
    },
    "orig_nbformat": 4,
    "colab": {
      "provenance": []
    }
  },
  "nbformat": 4,
  "nbformat_minor": 0
}